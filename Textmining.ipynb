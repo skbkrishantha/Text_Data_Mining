{
 "cells": [
  {
   "cell_type": "code",
   "execution_count": 1,
   "id": "7790f52c",
   "metadata": {},
   "outputs": [],
   "source": [
    "reviews = [\n",
    "    \"Love the product! High quality and great service.\",\n",
    "    \"The product was okay, but the service was terrible.\",\n",
    "    \"Not happy with the product. It broke after a week.\",\n",
    "    \"Absolutely fantastic! Will recommend to everyone.\",\n",
    "    \"Poor quality. Not what I expected at all.\"\n",
    "]\n"
   ]
  },
  {
   "cell_type": "code",
   "execution_count": 2,
   "id": "6178eea0",
   "metadata": {},
   "outputs": [
    {
     "name": "stderr",
     "output_type": "stream",
     "text": [
      "[nltk_data] Downloading package punkt to /root/nltk_data...\n",
      "[nltk_data]   Unzipping tokenizers/punkt.zip.\n",
      "[nltk_data] Downloading package stopwords to /root/nltk_data...\n",
      "[nltk_data]   Unzipping corpora/stopwords.zip.\n"
     ]
    }
   ],
   "source": [
    "import re\n",
    "import nltk\n",
    "from nltk.corpus import stopwords\n",
    "from nltk.tokenize import word_tokenize\n",
    "\n",
    "# Download stopwords\n",
    "nltk.download('punkt')\n",
    "nltk.download('stopwords')\n",
    "\n",
    "stop_words = set(stopwords.words('english'))\n",
    "\n",
    "def preprocess(text):\n",
    "    # Lowercasing\n",
    "    text = text.lower()\n",
    "    # Removing punctuation\n",
    "    text = re.sub(r'[^\\w\\s]', '', text)\n",
    "    # Tokenization\n",
    "    words = word_tokenize(text)\n",
    "    # Removing stopwords\n",
    "    words = [word for word in words if word not in stop_words]\n",
    "    return ' '.join(words)\n",
    "\n",
    "preprocessed_reviews = [preprocess(review) for review in reviews]\n"
   ]
  },
  {
   "cell_type": "code",
   "execution_count": 3,
   "id": "392dc608",
   "metadata": {},
   "outputs": [],
   "source": [
    "from sklearn.feature_extraction.text import TfidfVectorizer\n",
    "\n",
    "vectorizer = TfidfVectorizer()\n",
    "tfidf_matrix = vectorizer.fit_transform(preprocessed_reviews)"
   ]
  },
  {
   "cell_type": "code",
   "execution_count": 5,
   "id": "24b967f1",
   "metadata": {},
   "outputs": [
    {
     "name": "stdout",
     "output_type": "stream",
     "text": [
      "Review: love product high quality great service\n",
      "Top words: love, great, high\n",
      "\n",
      "Review: product okay service terrible\n",
      "Top words: okay, terrible, service\n",
      "\n",
      "Review: happy product broke week\n",
      "Top words: week, broke, happy\n",
      "\n",
      "Review: absolutely fantastic recommend everyone\n",
      "Top words: absolutely, recommend, everyone\n",
      "\n",
      "Review: poor quality expected\n",
      "Top words: expected, poor, quality\n",
      "\n"
     ]
    }
   ],
   "source": [
    "import numpy as np\n",
    "\n",
    "# Use get_feature_names for older versions of scikit-learn\n",
    "feature_names = np.array(vectorizer.get_feature_names())\n",
    "\n",
    "for i, review in enumerate(preprocessed_reviews):\n",
    "    # Sort features by score\n",
    "    sorted_idx = tfidf_matrix[i].toarray().flatten().argsort()[::-1]\n",
    "    top_words = feature_names[sorted_idx][:3]\n",
    "    print(f\"Review: {review}\")\n",
    "    print(f\"Top words: {', '.join(top_words)}\\n\")\n"
   ]
  },
  {
   "cell_type": "code",
   "execution_count": null,
   "id": "748562c6",
   "metadata": {},
   "outputs": [],
   "source": []
  }
 ],
 "metadata": {
  "kernelspec": {
   "display_name": "Python 3 (ipykernel)",
   "language": "python",
   "name": "python3"
  },
  "language_info": {
   "codemirror_mode": {
    "name": "ipython",
    "version": 3
   },
   "file_extension": ".py",
   "mimetype": "text/x-python",
   "name": "python",
   "nbconvert_exporter": "python",
   "pygments_lexer": "ipython3",
   "version": "3.8.13"
  }
 },
 "nbformat": 4,
 "nbformat_minor": 5
}
